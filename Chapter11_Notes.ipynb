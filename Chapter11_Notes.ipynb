{
 "cells": [
  {
   "cell_type": "markdown",
   "id": "0d879dc1-700b-41dd-a3ff-bbe12d95d319",
   "metadata": {},
   "source": [
    "# Chapter 11: Computer Science Thinking: Recursion, Searching, Sorting and Big O"
   ]
  },
  {
   "cell_type": "markdown",
   "id": "12d49f8c-ec0a-4a5f-8478-e8925a7e94c6",
   "metadata": {},
   "source": [
    "### 11.1 Introduction\n",
    "- Recursive functions (or methods) call themselves, either directly or indirectly through other functions (or methods)\n",
    "- Big O Notation concisely classifies algorithms by how hard they have to work to get the job done"
   ]
  },
  {
   "cell_type": "markdown",
   "id": "1ee2ea49-ca35-4f83-a8eb-4f4a4711c9e9",
   "metadata": {},
   "source": [
    "### 11.2 Factorials\n",
    "- 5! is 5 * 4 * 3 * 2 * 1"
   ]
  },
  {
   "cell_type": "code",
   "execution_count": 1,
   "id": "44e0c48a-f162-4c24-b162-a062025b6f9d",
   "metadata": {},
   "outputs": [
    {
     "data": {
      "text/plain": [
       "120"
      ]
     },
     "execution_count": 1,
     "metadata": {},
     "output_type": "execute_result"
    }
   ],
   "source": [
    "# Interative factorial approach\n",
    "\n",
    "factorial = 1\n",
    "\n",
    "for number in range(5, 0, -1):\n",
    "    factorial *= number\n",
    "\n",
    "factorial"
   ]
  },
  {
   "cell_type": "markdown",
   "id": "1a1f001a-3aca-4ca5-8742-d676677ebc63",
   "metadata": {},
   "source": [
    "### Recursive Factorial Example\n",
    "- Recursive functions can solve base cases\n",
    "- If you call a function with a more complex problem, it typically divides the problem into two pieces: one the function knows how to do and one that it does not know how to do\n",
    "- To make recursion feasible, the latter piece must be a slightly simpler or smaller version of the original problem\n",
    "- Because this new problem resembles the original problem, the function calls a fresh copy of itself to work on the smaller problem - this is referred to as a recursive call/recursion step\n",
    "- This concept of separating the problem into smaller portions is a form of the divide-and-conquer appraoch\n",
    "- The recursion step executes while the original function call is still active\n",
    "- For the recursion to eventually termine, it must converge on a case case\n",
    "- When the function recognizes the base case, it returns a result to the previous copy of the function\n",
    "- A sequence of returns ensues until the original function call returns the final result to the caller"
   ]
  },
  {
   "cell_type": "code",
   "execution_count": 2,
   "id": "7d5b227d-590e-40c3-8aae-4f87e309661a",
   "metadata": {},
   "outputs": [
    {
     "name": "stdout",
     "output_type": "stream",
     "text": [
      "0! = 1\n",
      "1! = 1\n",
      "2! = 2\n",
      "3! = 6\n",
      "4! = 24\n",
      "5! = 120\n",
      "6! = 720\n",
      "7! = 5040\n",
      "8! = 40320\n",
      "9! = 362880\n",
      "10! = 3628800\n"
     ]
    }
   ],
   "source": [
    "def factorial(number):\n",
    "    \"\"\"Return factorial of number.\"\"\"\n",
    "    if number <= 1:\n",
    "        return 1\n",
    "    return number * factorial(number - 1) # recursive call\n",
    "\n",
    "for i in range(11):\n",
    "    print(f'{i}! = {factorial(i)}')\n"
   ]
  },
  {
   "cell_type": "markdown",
   "id": "58bef676-1ba5-4934-a113-026b4ec3d734",
   "metadata": {},
   "source": [
    "**Indirect recursion**\n",
    "- Indirect recursion / indirect recursive call may call another function, which may, in turn, make a call back to the recursive function\n",
    "\n",
    "**Stack overflow and infinite recurison**\n",
    "- The amount of memory in a computer is finite, so only a certain amount of memory can be used to store activation records on the function-call stack\n",
    "- If more recursive function calls occur than can have their activation records stored on the stack, a fatal error known as stack overflow occurs\n",
    "- This typically is the result of infinite recursion, which can be caused by omitting the base case or writing the recursion step incorrectly\n",
    "\n",
    "**Recursion and the function-call stack**\n",
    "- Each recursive function call gets its own stack frame on the function-call stack\n",
    "- When a given call completes, the system pops the function's stack frame from the stack and control returns to the caller, possibly another copy of the same function"
   ]
  },
  {
   "cell_type": "markdown",
   "id": "dad7a2db-d7fb-49f0-a8a1-25d566fba313",
   "metadata": {},
   "source": [
    "### 11.4 Recursive Fibonacci Series Example\n",
    "- The Fibonacci series begins with 0 and 1 and each subsequent Fibonacci number is the sum of the previous two\n",
    "- The ratio of successive Fibonacci numbers converges on a constant value of 1.618... which is the golden ratio\n",
    "- Two base cases for the Fibonacci calculation: fibonacci(0) is 0, and fibonacci(1) is 1\n",
    "- In general, you sould avoid Fibonacci-style recursive programs, because they result in an exponentional \"explosion\" of function calls"
   ]
  },
  {
   "cell_type": "code",
   "execution_count": 3,
   "id": "25bb8f0e-6dd9-4b0e-8951-5297a3ce3d49",
   "metadata": {},
   "outputs": [
    {
     "name": "stdout",
     "output_type": "stream",
     "text": [
      "Fibonacci(0) = 0\n",
      "Fibonacci(1) = 1\n",
      "Fibonacci(2) = 1\n",
      "Fibonacci(3) = 2\n",
      "Fibonacci(4) = 3\n",
      "Fibonacci(5) = 5\n",
      "Fibonacci(6) = 8\n",
      "Fibonacci(7) = 13\n",
      "Fibonacci(8) = 21\n",
      "Fibonacci(9) = 34\n",
      "Fibonacci(10) = 55\n",
      "Fibonacci(11) = 89\n",
      "Fibonacci(12) = 144\n",
      "Fibonacci(13) = 233\n",
      "Fibonacci(14) = 377\n",
      "Fibonacci(15) = 610\n",
      "Fibonacci(16) = 987\n",
      "Fibonacci(17) = 1597\n",
      "Fibonacci(18) = 2584\n",
      "Fibonacci(19) = 4181\n",
      "Fibonacci(20) = 6765\n",
      "Fibonacci(21) = 10946\n",
      "Fibonacci(22) = 17711\n",
      "Fibonacci(23) = 28657\n",
      "Fibonacci(24) = 46368\n",
      "Fibonacci(25) = 75025\n",
      "Fibonacci(26) = 121393\n",
      "Fibonacci(27) = 196418\n",
      "Fibonacci(28) = 317811\n",
      "Fibonacci(29) = 514229\n",
      "Fibonacci(30) = 832040\n",
      "Fibonacci(31) = 1346269\n",
      "Fibonacci(32) = 2178309\n",
      "Fibonacci(33) = 3524578\n",
      "Fibonacci(34) = 5702887\n",
      "Fibonacci(35) = 9227465\n",
      "Fibonacci(36) = 14930352\n",
      "Fibonacci(37) = 24157817\n",
      "Fibonacci(38) = 39088169\n",
      "Fibonacci(39) = 63245986\n",
      "Fibonacci(40) = 102334155\n"
     ]
    }
   ],
   "source": [
    "def fibonacci(n):\n",
    "    if n in (0, 1): # base case\n",
    "        return n \n",
    "    else:\n",
    "        return fibonacci(n - 1) + fibonacci(n - 2)\n",
    "\n",
    "# IF n is greater than 1, the recursion step generates two recursive calls\n",
    "\n",
    "for n in range(41):\n",
    "    print(f'Fibonacci({n}) = {fibonacci(n)}')"
   ]
  },
  {
   "cell_type": "markdown",
   "id": "50ffe987-63fc-4531-9719-5965ac7593b4",
   "metadata": {},
   "source": [
    "### 11.5 Recursion vs Iteration\n",
    "- Both iteration and recurison are based on control statements\n",
    "- Iteration terminates when the loop-continuation condition fails, whereas recursion terminates when a base case is reached\n",
    "- Iteration with counter-controlled iteration and recursion both gradually approach termination\n",
    "- Both iteration and recursion can occur infinitely\n",
    "\n",
    "**Negatives of recursion**\n",
    "- It repeatedly invokes the mechanism, and consequently the overhead of function calls\n",
    "- This overhead can be expensive in terms of both processor time and memory space\n",
    "- Iteration avoids these repeated function calls and extra memory assignments"
   ]
  },
  {
   "cell_type": "markdown",
   "id": "5a46b84a-270b-4707-aea8-46fb485f35ec",
   "metadata": {},
   "source": [
    "### 11.6 Searching and Sorting\n",
    "- Searching data involves determining whether a value (referred to as the search key) is present in the data and, if so, finding its location\n",
    "- Two popular search algorithms are the simple linear search and the faster but more complex binary search\n",
    "- Sorting places data in ascending or descending order, based on one or more sort keys\n"
   ]
  },
  {
   "cell_type": "markdown",
   "id": "4918573c-272b-446a-ab32-7d5cdb5d038c",
   "metadata": {},
   "source": [
    "### 11.7 Linear Search\n",
    "- The linear search algorithm searches each element in an array sequentially\n",
    "- If the search key does not match an element in the array, the algorithm informs the user that the search key is not present\n",
    "- If the search key is in the array, the algorithm tests each element until it finds one that matches the search key and returns the index of that element"
   ]
  },
  {
   "cell_type": "code",
   "execution_count": 25,
   "id": "3706bc3c-a4c8-4420-92c4-54adb88ff909",
   "metadata": {},
   "outputs": [
    {
     "data": {
      "text/plain": [
       "array([35, 73, 90, 65, 23, 86, 43, 81, 34, 58])"
      ]
     },
     "execution_count": 25,
     "metadata": {},
     "output_type": "execute_result"
    }
   ],
   "source": [
    "def linear_search(data, search_key):\n",
    "    for index, value in enumerate(data):\n",
    "        if value == search_key:\n",
    "            return index\n",
    "    return -1\n",
    "    \n",
    "import numpy as np\n",
    "\n",
    "np.random.seed(11)\n",
    "\n",
    "values = np.random.randint(10, 91, 10)\n",
    "\n",
    "values"
   ]
  },
  {
   "cell_type": "code",
   "execution_count": 26,
   "id": "5e015161-605e-46a2-a560-bc673c3366fa",
   "metadata": {},
   "outputs": [
    {
     "data": {
      "text/plain": [
       "4"
      ]
     },
     "execution_count": 26,
     "metadata": {},
     "output_type": "execute_result"
    }
   ],
   "source": [
    "linear_search(values, 23)"
   ]
  },
  {
   "cell_type": "code",
   "execution_count": 27,
   "id": "d1f03d5b-a2c9-4a25-8b25-07bb0014f4da",
   "metadata": {},
   "outputs": [
    {
     "data": {
      "text/plain": [
       "-1"
      ]
     },
     "execution_count": 27,
     "metadata": {},
     "output_type": "execute_result"
    }
   ],
   "source": [
    "linear_search(values, 61)"
   ]
  },
  {
   "cell_type": "code",
   "execution_count": 28,
   "id": "cb8b17dd-0714-4ad6-93c1-7eda31264aa5",
   "metadata": {},
   "outputs": [
    {
     "data": {
      "text/plain": [
       "1"
      ]
     },
     "execution_count": 28,
     "metadata": {},
     "output_type": "execute_result"
    }
   ],
   "source": [
    "linear_search(values, 73)"
   ]
  },
  {
   "cell_type": "markdown",
   "id": "0fa51a2a-da27-463d-bc3c-c66e9c79d903",
   "metadata": {},
   "source": [
    "### 11.8 Efficiency of Algorithms: Big O\n",
    "- Big O indicates how hard an algorithm may have to work to solve a problem\n",
    "\n",
    "**O(1) Algorithms**\n",
    "- Constant run time: pronounced as \"order one\"\n",
    "- The number of comparisons is constant - it does not grow as the size of the array increases\n",
    "\n",
    "**O(n) Algorithms**\n",
    "- An algorithm that requires n - 1 comparions\n",
    "- As n grows larger, the n part of the expression n - 1 dominates and subracting 1 becomes inconsequential\n",
    "- An O(n) algorithm is said to have a linear run time\n",
    "- Pronounced \"order n\" or \"on the order of n\"\n",
    "\n",
    "**O(n\\**2) Algorithms**\n",
    "\n"
   ]
  }
 ],
 "metadata": {
  "kernelspec": {
   "display_name": "Python 3 (ipykernel)",
   "language": "python",
   "name": "python3"
  },
  "language_info": {
   "codemirror_mode": {
    "name": "ipython",
    "version": 3
   },
   "file_extension": ".py",
   "mimetype": "text/x-python",
   "name": "python",
   "nbconvert_exporter": "python",
   "pygments_lexer": "ipython3",
   "version": "3.9.7"
  }
 },
 "nbformat": 4,
 "nbformat_minor": 5
}
