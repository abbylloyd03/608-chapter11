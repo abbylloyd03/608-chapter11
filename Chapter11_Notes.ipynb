{
 "cells": [
  {
   "cell_type": "markdown",
   "id": "0d879dc1-700b-41dd-a3ff-bbe12d95d319",
   "metadata": {},
   "source": [
    "# Chapter 11: Computer Science Thinking: Recursion, Searching, Sorting and Big O"
   ]
  },
  {
   "cell_type": "markdown",
   "id": "12d49f8c-ec0a-4a5f-8478-e8925a7e94c6",
   "metadata": {},
   "source": [
    "### 11.1 Introduction\n",
    "- Recursive functions (or methods) call themselves, either directly or indirectly through other functions (or methods)\n",
    "- Big O Notation concisely classifies algorithms by how hard they have to work to get the job done"
   ]
  },
  {
   "cell_type": "markdown",
   "id": "1ee2ea49-ca35-4f83-a8eb-4f4a4711c9e9",
   "metadata": {},
   "source": [
    "### 11.2 Factorials\n",
    "- 5! is 5 * 4 * 3 * 2 * 1"
   ]
  },
  {
   "cell_type": "code",
   "execution_count": 1,
   "id": "44e0c48a-f162-4c24-b162-a062025b6f9d",
   "metadata": {},
   "outputs": [
    {
     "data": {
      "text/plain": [
       "120"
      ]
     },
     "execution_count": 1,
     "metadata": {},
     "output_type": "execute_result"
    }
   ],
   "source": [
    "# Interative factorial approach\n",
    "\n",
    "factorial = 1\n",
    "\n",
    "for number in range(5, 0, -1):\n",
    "    factorial *= number\n",
    "\n",
    "factorial"
   ]
  },
  {
   "cell_type": "markdown",
   "id": "1a1f001a-3aca-4ca5-8742-d676677ebc63",
   "metadata": {},
   "source": [
    "### Recursive Factorial Example\n",
    "- Recursive functions can solve base cases\n",
    "- If you call a function with a more complex problem, it typically divides the problem into two pieces: one the function knows how to do and one that it does not know how to do\n",
    "- To make recursion feasible, the latter piece must be a slightly simpler or smaller version of the original problem\n",
    "- Because this new problem resembles the original problem, the function calls a fresh copy of itself to work on the smaller problem - this is referred to as a recursive call/recursion step\n",
    "- This concept of separating the problem into smaller portions is a form of the divide-and-conquer appraoch\n",
    "- The recursion step executes while the original function call is still active\n",
    "- For the recursion to eventually terminate, it must converge on a base case\n",
    "- When the function recognizes the base case, it returns a result to the previous copy of the function\n",
    "- A sequence of returns ensues until the original function call returns the final result to the caller"
   ]
  },
  {
   "cell_type": "code",
   "execution_count": 2,
   "id": "7d5b227d-590e-40c3-8aae-4f87e309661a",
   "metadata": {},
   "outputs": [
    {
     "name": "stdout",
     "output_type": "stream",
     "text": [
      "0! = 1\n",
      "1! = 1\n",
      "2! = 2\n",
      "3! = 6\n",
      "4! = 24\n",
      "5! = 120\n",
      "6! = 720\n",
      "7! = 5040\n",
      "8! = 40320\n",
      "9! = 362880\n",
      "10! = 3628800\n"
     ]
    }
   ],
   "source": [
    "def factorial(number):\n",
    "    \"\"\"Return factorial of number.\"\"\"\n",
    "    if number <= 1:\n",
    "        return 1\n",
    "    return number * factorial(number - 1) # recursive call\n",
    "\n",
    "for i in range(11):\n",
    "    print(f'{i}! = {factorial(i)}')\n"
   ]
  },
  {
   "cell_type": "markdown",
   "id": "58bef676-1ba5-4934-a113-026b4ec3d734",
   "metadata": {},
   "source": [
    "**Indirect recursion**\n",
    "- Indirect recursion / indirect recursive call may call another function, which may, in turn, make a call back to the recursive function\n",
    "\n",
    "**Stack overflow and infinite recurison**\n",
    "- The amount of memory in a computer is finite, so only a certain amount of memory can be used to store activation records on the function-call stack\n",
    "- If more recursive function calls occur than can have their activation records stored on the stack, a fatal error known as stack overflow occurs\n",
    "- This typically is the result of infinite recursion, which can be caused by omitting the base case or writing the recursion step incorrectly\n",
    "\n",
    "**Recursion and the function-call stack**\n",
    "- Each recursive function call gets its own stack frame on the function-call stack\n",
    "- When a given call completes, the system pops the function's stack frame from the stack and control returns to the caller, possibly another copy of the same function"
   ]
  },
  {
   "cell_type": "markdown",
   "id": "dad7a2db-d7fb-49f0-a8a1-25d566fba313",
   "metadata": {},
   "source": [
    "### 11.4 Recursive Fibonacci Series Example\n",
    "- The Fibonacci series begins with 0 and 1 and each subsequent Fibonacci number is the sum of the previous two\n",
    "- The ratio of successive Fibonacci numbers converges on a constant value of 1.618... which is the golden ratio\n",
    "- Two base cases for the Fibonacci calculation: fibonacci(0) is 0, and fibonacci(1) is 1\n",
    "- In general, you sould avoid Fibonacci-style recursive programs, because they result in an exponentional \"explosion\" of function calls"
   ]
  },
  {
   "cell_type": "code",
   "execution_count": 3,
   "id": "25bb8f0e-6dd9-4b0e-8951-5297a3ce3d49",
   "metadata": {},
   "outputs": [
    {
     "name": "stdout",
     "output_type": "stream",
     "text": [
      "Fibonacci(0) = 0\n",
      "Fibonacci(1) = 1\n",
      "Fibonacci(2) = 1\n",
      "Fibonacci(3) = 2\n",
      "Fibonacci(4) = 3\n",
      "Fibonacci(5) = 5\n",
      "Fibonacci(6) = 8\n",
      "Fibonacci(7) = 13\n",
      "Fibonacci(8) = 21\n",
      "Fibonacci(9) = 34\n",
      "Fibonacci(10) = 55\n",
      "Fibonacci(11) = 89\n",
      "Fibonacci(12) = 144\n",
      "Fibonacci(13) = 233\n",
      "Fibonacci(14) = 377\n",
      "Fibonacci(15) = 610\n",
      "Fibonacci(16) = 987\n",
      "Fibonacci(17) = 1597\n",
      "Fibonacci(18) = 2584\n",
      "Fibonacci(19) = 4181\n",
      "Fibonacci(20) = 6765\n",
      "Fibonacci(21) = 10946\n",
      "Fibonacci(22) = 17711\n",
      "Fibonacci(23) = 28657\n",
      "Fibonacci(24) = 46368\n",
      "Fibonacci(25) = 75025\n",
      "Fibonacci(26) = 121393\n",
      "Fibonacci(27) = 196418\n",
      "Fibonacci(28) = 317811\n",
      "Fibonacci(29) = 514229\n",
      "Fibonacci(30) = 832040\n",
      "Fibonacci(31) = 1346269\n",
      "Fibonacci(32) = 2178309\n",
      "Fibonacci(33) = 3524578\n",
      "Fibonacci(34) = 5702887\n",
      "Fibonacci(35) = 9227465\n",
      "Fibonacci(36) = 14930352\n",
      "Fibonacci(37) = 24157817\n",
      "Fibonacci(38) = 39088169\n",
      "Fibonacci(39) = 63245986\n",
      "Fibonacci(40) = 102334155\n"
     ]
    }
   ],
   "source": [
    "def fibonacci(n):\n",
    "    if n in (0, 1): # base case\n",
    "        return n \n",
    "    else:\n",
    "        return fibonacci(n - 1) + fibonacci(n - 2)\n",
    "\n",
    "# IF n is greater than 1, the recursion step generates two recursive calls\n",
    "\n",
    "for n in range(41):\n",
    "    print(f'Fibonacci({n}) = {fibonacci(n)}')"
   ]
  },
  {
   "cell_type": "markdown",
   "id": "50ffe987-63fc-4531-9719-5965ac7593b4",
   "metadata": {},
   "source": [
    "### 11.5 Recursion vs Iteration\n",
    "- Both iteration and recurison are based on control statements\n",
    "- Iteration terminates when the loop-continuation condition fails, whereas recursion terminates when a base case is reached\n",
    "- Iteration with counter-controlled iteration and recursion both gradually approach termination\n",
    "- Both iteration and recursion can occur infinitely\n",
    "\n",
    "**Negatives of recursion**\n",
    "- It repeatedly invokes the mechanism, and consequently the overhead of function calls\n",
    "- This overhead can be expensive in terms of both processor time and memory space\n",
    "- Iteration avoids these repeated function calls and extra memory assignments"
   ]
  },
  {
   "cell_type": "markdown",
   "id": "5a46b84a-270b-4707-aea8-46fb485f35ec",
   "metadata": {},
   "source": [
    "### 11.6 Searching and Sorting\n",
    "- Searching data involves determining whether a value (referred to as the search key) is present in the data and, if so, finding its location\n",
    "- Two popular search algorithms are the simple linear search and the faster but more complex binary search\n",
    "- Sorting places data in ascending or descending order, based on one or more sort keys\n"
   ]
  },
  {
   "cell_type": "markdown",
   "id": "4918573c-272b-446a-ab32-7d5cdb5d038c",
   "metadata": {},
   "source": [
    "### 11.7 Linear Search\n",
    "- The linear search algorithm searches each element in an array sequentially\n",
    "- If the search key does not match an element in the array, the algorithm informs the user that the search key is not present\n",
    "- If the search key is in the array, the algorithm tests each element until it finds one that matches the search key and returns the index of that element"
   ]
  },
  {
   "cell_type": "code",
   "execution_count": 25,
   "id": "3706bc3c-a4c8-4420-92c4-54adb88ff909",
   "metadata": {},
   "outputs": [
    {
     "data": {
      "text/plain": [
       "array([35, 73, 90, 65, 23, 86, 43, 81, 34, 58])"
      ]
     },
     "execution_count": 25,
     "metadata": {},
     "output_type": "execute_result"
    }
   ],
   "source": [
    "def linear_search(data, search_key):\n",
    "    for index, value in enumerate(data):\n",
    "        if value == search_key:\n",
    "            return index\n",
    "    return -1\n",
    "    \n",
    "import numpy as np\n",
    "\n",
    "np.random.seed(11)\n",
    "\n",
    "values = np.random.randint(10, 91, 10)\n",
    "\n",
    "values"
   ]
  },
  {
   "cell_type": "code",
   "execution_count": 26,
   "id": "5e015161-605e-46a2-a560-bc673c3366fa",
   "metadata": {},
   "outputs": [
    {
     "data": {
      "text/plain": [
       "4"
      ]
     },
     "execution_count": 26,
     "metadata": {},
     "output_type": "execute_result"
    }
   ],
   "source": [
    "linear_search(values, 23)"
   ]
  },
  {
   "cell_type": "code",
   "execution_count": 27,
   "id": "d1f03d5b-a2c9-4a25-8b25-07bb0014f4da",
   "metadata": {},
   "outputs": [
    {
     "data": {
      "text/plain": [
       "-1"
      ]
     },
     "execution_count": 27,
     "metadata": {},
     "output_type": "execute_result"
    }
   ],
   "source": [
    "linear_search(values, 61)"
   ]
  },
  {
   "cell_type": "code",
   "execution_count": 28,
   "id": "cb8b17dd-0714-4ad6-93c1-7eda31264aa5",
   "metadata": {},
   "outputs": [
    {
     "data": {
      "text/plain": [
       "1"
      ]
     },
     "execution_count": 28,
     "metadata": {},
     "output_type": "execute_result"
    }
   ],
   "source": [
    "linear_search(values, 73)"
   ]
  },
  {
   "cell_type": "markdown",
   "id": "0fa51a2a-da27-463d-bc3c-c66e9c79d903",
   "metadata": {},
   "source": [
    "### 11.8 Efficiency of Algorithms: Big O\n",
    "- Big O indicates how hard an algorithm may have to work to solve a problem\n",
    "\n",
    "**O(1) Algorithms**\n",
    "- Constant run time: pronounced as \"order one\"\n",
    "- The number of comparisons is constant - it does not grow as the size of the array increases\n",
    "\n",
    "**O(n) Algorithms**\n",
    "- An algorithm that requires n - 1 comparions\n",
    "- As n grows larger, the n part of the expression n - 1 dominates and subracting 1 becomes inconsequential\n",
    "- An O(n) algorithm is said to have a linear run time\n",
    "- Pronounced \"order n\" or \"on the order of n\"\n",
    "\n",
    "**O(n^2) Algorithms**\n",
    "- As n increases, the n^2 dominates and the n term becomes inconsequential\n",
    "- O(n^2) is referred to as quadratic run time\n",
    "- Pronounced \"on the order of n-squared\" or \"order n-squared\"\n",
    "- As n grows, you will start to notice performance degradation\n",
    "- O(n^2) algorithms are easy to write, more efficient algorithms often take a bit more cleverness and work to create\n",
    "\n",
    "**Big O of the Linear Search**\n",
    "- The linear search algorithm runs in O(n) time\n",
    "- Worst case scenario: every element must be checked to determine whether the search item exists in the array\n",
    "- Linear search is easy to program, but it can be slow compared to other search algorithms\n",
    "- If a program needs to perform many searches on large arrays, it is better to implement a more efficient algorithm, such as binary search"
   ]
  },
  {
   "cell_type": "markdown",
   "id": "c073f88e-b7fa-4256-a92a-08e8a7325d9e",
   "metadata": {},
   "source": [
    "### 11.9 Binary Search\n",
    "- Requires a sorted array\n",
    "- More efficient than linear search\n",
    "- The first iteration tests the middle element in the array\n",
    "- It then determines if the search key is less or greater than the middle element\n",
    "- Each iteration tests the middle value of the remaining portion of the array\n",
    "- If the search key does not match the element, the algorithm eliminates half of the remaining elements\n",
    "- The algorithm ends by either finding an element that matches the search key or reducing the subarray to zero size"
   ]
  },
  {
   "cell_type": "markdown",
   "id": "475fc04b-3570-4090-8c4f-efd66c41205a",
   "metadata": {
    "tags": []
   },
   "source": [
    "### 11.9.1 Binary Search Implementation\n",
    "- Function binary_search searches an array for a specified key\n",
    "- Function remaining_elements displays the remaining elements in the array being searched, to visualize how the algorithm works\n",
    "- Function main tests function binary_search"
   ]
  },
  {
   "cell_type": "markdown",
   "id": "81ac0326-2f0e-4b2d-b139-d391e9ebaf90",
   "metadata": {},
   "source": [
    "### 11.9.2 Big O of the Binary Search\n",
    "- Binary search is a tremendous improvement over the linear search\n",
    "- The max number of comparisons needed for the binary search of any sorted array is the exponent of the first power of 2 greater than the number of elements in the array: log2n\n",
    "- All logarithms grow at roughly the same rate, so in big O notation the base case can be ommitted\n",
    "- O(log n) for a binary search is known as logarithmic run time and is pronounced \"order log n\""
   ]
  },
  {
   "cell_type": "markdown",
   "id": "d6920ff4-c173-4034-a7c7-25ce5bf5afb3",
   "metadata": {},
   "source": [
    "### Sorting Algorithms\n",
    "- Sorting data is an intriguing, computer-intensive problem that has attracted intense research efforts\n",
    "- Selection sort and insertion sort are relatively simple to program but inefficient\n",
    "- Merge sort is much faster but harder to program"
   ]
  },
  {
   "cell_type": "markdown",
   "id": "32642317-6ace-496d-8efe-4894606a3892",
   "metadata": {},
   "source": [
    "### Selection Sort\n",
    "- If you're sorting in increasing order, its first iteration selects the smallest element in the array and swaps it with the first element\n",
    "- The second iteration selects the second-smallest item and swaps it with the second element\n",
    "- The algorithm continues until the last iteration selects the second-largest element and swaps it with the second-to-las index"
   ]
  },
  {
   "cell_type": "markdown",
   "id": "6bac103b-84ef-4592-9230-c48642d49515",
   "metadata": {},
   "source": [
    "### 11.11.3 Big O of Selection Sort\n",
    "- The selection sort algorithm runs in O(n^2) time\n",
    "- The algorithm iterates the same number of times regardless of whether the array's elements are randomly ordered, partially ordered, or already sorted"
   ]
  },
  {
   "cell_type": "markdown",
   "id": "2ad901e6-fb06-4a4d-9665-35ed8215e5d7",
   "metadata": {},
   "source": [
    "### Insertion Sort\n",
    "- The first iteration takes the second element in the array and, if less than the first element, swaps it with the first element\n",
    "- The second iteration looks at the third element and inserts it into the correct position with respect to the first two, so all three elements are in order\n",
    "- At the nth iteration of this algorithm, the first n elements in the original array will be sorted"
   ]
  },
  {
   "cell_type": "markdown",
   "id": "5cc0ec59-3451-478b-aecf-87d92d5d95a3",
   "metadata": {},
   "source": [
    "### Big O of the Insertion Sort\n",
    "- The insertion sort algorithm runsin O(n^2) time\n",
    "- Like selection sort, the implementation of insertion sort contains two loops\n",
    "- The for loop iterates len(data) -1 times, inserting an element into the appropriate position among the elements\n",
    "- The while loop iterates over the preceding elements in the array"
   ]
  },
  {
   "cell_type": "markdown",
   "id": "61ccf250-7d09-42c2-a465-e0767f5327be",
   "metadata": {},
   "source": [
    "### 11.13 Merge Sort\n",
    "- Merge sort is an efficient sorting algorithm but is conceptually more complex than selection sort and insertion sort\n",
    "- The merge sort algorithm sorts an array by splitting it into two equal-sized subarrays, sorting each subarray, then merging them into one larger array\n",
    "- Merge sort is recursive\n",
    "- The base case is an array with one element, which is sorted, so the merge sort immediately returns this case"
   ]
  },
  {
   "cell_type": "markdown",
   "id": "a9c58033-6f8a-4fe0-a9a8-036563843b39",
   "metadata": {},
   "source": [
    "### 11.13.2 Big O of the Merge Sort\n",
    "- Merge sort is far more efficient than insertion or selection sort\n",
    "- It results in a total efficiency of O(n log n)"
   ]
  },
  {
   "cell_type": "markdown",
   "id": "517d50e5-0a6e-4d4d-8ea7-f3242f301d8c",
   "metadata": {},
   "source": [
    "### 11.15 Visualizing Algorithms"
   ]
  }
 ],
 "metadata": {
  "kernelspec": {
   "display_name": "Python 3 (ipykernel)",
   "language": "python",
   "name": "python3"
  },
  "language_info": {
   "codemirror_mode": {
    "name": "ipython",
    "version": 3
   },
   "file_extension": ".py",
   "mimetype": "text/x-python",
   "name": "python",
   "nbconvert_exporter": "python",
   "pygments_lexer": "ipython3",
   "version": "3.9.7"
  }
 },
 "nbformat": 4,
 "nbformat_minor": 5
}
